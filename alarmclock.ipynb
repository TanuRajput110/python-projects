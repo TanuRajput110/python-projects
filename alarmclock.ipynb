{
  "nbformat": 4,
  "nbformat_minor": 0,
  "metadata": {
    "colab": {
      "name": "alarmclock.ipynb",
      "provenance": [],
      "collapsed_sections": [],
      "authorship_tag": "ABX9TyNf/jqyLlQJLm+6Z5imH30+",
      "include_colab_link": true
    },
    "kernelspec": {
      "name": "python3",
      "display_name": "Python 3"
    },
    "language_info": {
      "name": "python"
    }
  },
  "cells": [
    {
      "cell_type": "markdown",
      "metadata": {
        "id": "view-in-github",
        "colab_type": "text"
      },
      "source": [
        "<a href=\"https://colab.research.google.com/github/TanuRajput110/python-projects/blob/main/alarmclock.ipynb\" target=\"_parent\"><img src=\"https://colab.research.google.com/assets/colab-badge.svg\" alt=\"Open In Colab\"/></a>"
      ]
    },
    {
      "cell_type": "markdown",
      "metadata": {
        "id": "SEZt93R0FYWW"
      },
      "source": [
        "#HOW TO MAKE ALARM CLOCK"
      ]
    },
    {
      "cell_type": "code",
      "metadata": {
        "id": "P6T2iGEYFHdA"
      },
      "source": [
        "#firstly we import three modules \n",
        "import os #operating system module which is comes with python when u install(built-in)(simply import)\n",
        "import datetime \n",
        "import time"
      ],
      "execution_count": 16,
      "outputs": []
    },
    {
      "cell_type": "code",
      "metadata": {
        "id": "FrQ8K0PGGJGj"
      },
      "source": [
        "c,b,a=input(\"enter the date=\").split(\"/\")  #declare 3 variables (b,c,a) and split them with \"/\"\n",
        "hr,minn,sec=input(\"enter the time=\").split(\":\") #again we declare for time and split with\":\n",
        "schedule_date=datetime.date(int(a),int(b),int(c)) #now cal a datetime module which contain a module date in which all date values inputs. we write int befor a,b,c becoz we know that all input are in the form of string so we hve to convert them into integer.\n",
        "#now,see above ,earlier we took c,b,a.becoz datetime module took date in this pattern(year-month-date).but what we input is just opposite to it.that's why we input a,b,c(serialwise)\n",
        "#now we declare a variable n=1,becoz we want to run a loop \n",
        "n=1\n",
        "while n>0:\n",
        "  if time.localtime().tm_hour==int(hr) and time.localtime().tm==int(minn) and time.localtime().tm_sec==int(sec) and datetime.date.today()==schedule_date:\n",
        "    os.startfile('C:\\\\Users\\\\Public\\\\Music\\\\Sample Music\\\\Kalimba.mp3')\n",
        "    break\n",
        "  else:\n",
        "    n+=1  \n"
      ],
      "execution_count": null,
      "outputs": []
    }
  ]
}